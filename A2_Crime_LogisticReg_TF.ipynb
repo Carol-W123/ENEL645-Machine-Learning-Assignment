{
  "nbformat": 4,
  "nbformat_minor": 0,
  "metadata": {
    "colab": {
      "name": "A2_Crime_LogisticReg_TF.ipynb",
      "provenance": [],
      "collapsed_sections": []
    },
    "kernelspec": {
      "name": "python3",
      "display_name": "Python 3"
    },
    "accelerator": "GPU"
  },
  "cells": [
    {
      "cell_type": "code",
      "metadata": {
        "id": "QGBtt7nONbZS",
        "colab_type": "code",
        "colab": {
          "base_uri": "https://localhost:8080/",
          "height": 54
        },
        "outputId": "2763c3d3-fd92-42d1-8aaa-96fc97dc09de"
      },
      "source": [
        "from google.colab import drive\n",
        "drive.mount('/content/drive')"
      ],
      "execution_count": null,
      "outputs": [
        {
          "output_type": "stream",
          "text": [
            "Drive already mounted at /content/drive; to attempt to forcibly remount, call drive.mount(\"/content/drive\", force_remount=True).\n"
          ],
          "name": "stdout"
        }
      ]
    },
    {
      "cell_type": "code",
      "metadata": {
        "id": "AqWZi07YNkrL",
        "colab_type": "code",
        "colab": {}
      },
      "source": [
        "import pandas as pd"
      ],
      "execution_count": null,
      "outputs": []
    },
    {
      "cell_type": "code",
      "metadata": {
        "id": "A3aF4bWUN24o",
        "colab_type": "code",
        "colab": {
          "base_uri": "https://localhost:8080/",
          "height": 677
        },
        "outputId": "6c080efb-fd6c-4a3a-86a7-14ba39c66fc9"
      },
      "source": [
        "data = pd.read_csv ('/content/drive/My Drive/Dataset/CrimeCount.csv')\n",
        "data"
      ],
      "execution_count": null,
      "outputs": [
        {
          "output_type": "execute_result",
          "data": {
            "text/html": [
              "<div>\n",
              "<style scoped>\n",
              "    .dataframe tbody tr th:only-of-type {\n",
              "        vertical-align: middle;\n",
              "    }\n",
              "\n",
              "    .dataframe tbody tr th {\n",
              "        vertical-align: top;\n",
              "    }\n",
              "\n",
              "    .dataframe thead th {\n",
              "        text-align: right;\n",
              "    }\n",
              "</style>\n",
              "<table border=\"1\" class=\"dataframe\">\n",
              "  <thead>\n",
              "    <tr style=\"text-align: right;\">\n",
              "      <th></th>\n",
              "      <th>Sector</th>\n",
              "      <th>Community Name</th>\n",
              "      <th>Group Category</th>\n",
              "      <th>Category</th>\n",
              "      <th>Crime Count</th>\n",
              "      <th>Resident Count</th>\n",
              "      <th>Year</th>\n",
              "      <th>Month</th>\n",
              "    </tr>\n",
              "  </thead>\n",
              "  <tbody>\n",
              "    <tr>\n",
              "      <th>0</th>\n",
              "      <td>NORTHEAST</td>\n",
              "      <td>WHITEHORN</td>\n",
              "      <td>Crime</td>\n",
              "      <td>Street Robbery</td>\n",
              "      <td>1</td>\n",
              "      <td>12019</td>\n",
              "      <td>2019</td>\n",
              "      <td>SEP</td>\n",
              "    </tr>\n",
              "    <tr>\n",
              "      <th>1</th>\n",
              "      <td>EAST</td>\n",
              "      <td>FOOTHILLS</td>\n",
              "      <td>Crime</td>\n",
              "      <td>Theft OF Vehicle</td>\n",
              "      <td>10</td>\n",
              "      <td>317</td>\n",
              "      <td>2019</td>\n",
              "      <td>NOV</td>\n",
              "    </tr>\n",
              "    <tr>\n",
              "      <th>2</th>\n",
              "      <td>SOUTH</td>\n",
              "      <td>ACADIA</td>\n",
              "      <td>Crime</td>\n",
              "      <td>Theft FROM Vehicle</td>\n",
              "      <td>13</td>\n",
              "      <td>10520</td>\n",
              "      <td>2019</td>\n",
              "      <td>SEP</td>\n",
              "    </tr>\n",
              "    <tr>\n",
              "      <th>3</th>\n",
              "      <td>SOUTHEAST</td>\n",
              "      <td>MAHOGANY</td>\n",
              "      <td>Crime</td>\n",
              "      <td>Theft OF Vehicle</td>\n",
              "      <td>1</td>\n",
              "      <td>11784</td>\n",
              "      <td>2019</td>\n",
              "      <td>NOV</td>\n",
              "    </tr>\n",
              "    <tr>\n",
              "      <th>4</th>\n",
              "      <td>WEST</td>\n",
              "      <td>LINCOLN PARK</td>\n",
              "      <td>Crime</td>\n",
              "      <td>Commercial Break &amp; Enter</td>\n",
              "      <td>5</td>\n",
              "      <td>2617</td>\n",
              "      <td>2019</td>\n",
              "      <td>NOV</td>\n",
              "    </tr>\n",
              "    <tr>\n",
              "      <th>...</th>\n",
              "      <td>...</td>\n",
              "      <td>...</td>\n",
              "      <td>...</td>\n",
              "      <td>...</td>\n",
              "      <td>...</td>\n",
              "      <td>...</td>\n",
              "      <td>...</td>\n",
              "      <td>...</td>\n",
              "    </tr>\n",
              "    <tr>\n",
              "      <th>99995</th>\n",
              "      <td>SOUTH</td>\n",
              "      <td>WOODBINE</td>\n",
              "      <td>Disorder</td>\n",
              "      <td>Physical Disorder</td>\n",
              "      <td>2</td>\n",
              "      <td>9131</td>\n",
              "      <td>2013</td>\n",
              "      <td>JAN</td>\n",
              "    </tr>\n",
              "    <tr>\n",
              "      <th>99996</th>\n",
              "      <td>WEST</td>\n",
              "      <td>NORTH GLENMORE PARK</td>\n",
              "      <td>Crime</td>\n",
              "      <td>Assault (Non-domestic)</td>\n",
              "      <td>2</td>\n",
              "      <td>2333</td>\n",
              "      <td>2014</td>\n",
              "      <td>MAR</td>\n",
              "    </tr>\n",
              "    <tr>\n",
              "      <th>99997</th>\n",
              "      <td>SOUTH</td>\n",
              "      <td>HAYSBORO</td>\n",
              "      <td>Disorder</td>\n",
              "      <td>Physical Disorder</td>\n",
              "      <td>5</td>\n",
              "      <td>6943</td>\n",
              "      <td>2012</td>\n",
              "      <td>SEP</td>\n",
              "    </tr>\n",
              "    <tr>\n",
              "      <th>99998</th>\n",
              "      <td>SOUTH</td>\n",
              "      <td>FAIRVIEW INDUSTRIAL</td>\n",
              "      <td>Disorder</td>\n",
              "      <td>Social Disorder</td>\n",
              "      <td>7</td>\n",
              "      <td>0</td>\n",
              "      <td>2013</td>\n",
              "      <td>MAR</td>\n",
              "    </tr>\n",
              "    <tr>\n",
              "      <th>99999</th>\n",
              "      <td>CENTRE</td>\n",
              "      <td>KILLARNEY/GLENGARRY</td>\n",
              "      <td>Crime</td>\n",
              "      <td>Theft OF Vehicle</td>\n",
              "      <td>1</td>\n",
              "      <td>6870</td>\n",
              "      <td>2013</td>\n",
              "      <td>OCT</td>\n",
              "    </tr>\n",
              "  </tbody>\n",
              "</table>\n",
              "<p>100000 rows × 8 columns</p>\n",
              "</div>"
            ],
            "text/plain": [
              "          Sector       Community Name  ...  Year Month\n",
              "0      NORTHEAST            WHITEHORN  ...  2019   SEP\n",
              "1           EAST            FOOTHILLS  ...  2019   NOV\n",
              "2          SOUTH               ACADIA  ...  2019   SEP\n",
              "3      SOUTHEAST             MAHOGANY  ...  2019   NOV\n",
              "4           WEST         LINCOLN PARK  ...  2019   NOV\n",
              "...          ...                  ...  ...   ...   ...\n",
              "99995      SOUTH             WOODBINE  ...  2013   JAN\n",
              "99996       WEST  NORTH GLENMORE PARK  ...  2014   MAR\n",
              "99997      SOUTH             HAYSBORO  ...  2012   SEP\n",
              "99998      SOUTH  FAIRVIEW INDUSTRIAL  ...  2013   MAR\n",
              "99999     CENTRE  KILLARNEY/GLENGARRY  ...  2013   OCT\n",
              "\n",
              "[100000 rows x 8 columns]"
            ]
          },
          "metadata": {
            "tags": []
          },
          "execution_count": 60
        }
      ]
    },
    {
      "cell_type": "code",
      "metadata": {
        "id": "-7gtplbrUFvA",
        "colab_type": "code",
        "colab": {
          "base_uri": "https://localhost:8080/",
          "height": 272
        },
        "outputId": "d7702a90-7046-4d84-82f3-5fb997e2490d"
      },
      "source": [
        "data.info()"
      ],
      "execution_count": null,
      "outputs": [
        {
          "output_type": "stream",
          "text": [
            "<class 'pandas.core.frame.DataFrame'>\n",
            "RangeIndex: 100000 entries, 0 to 99999\n",
            "Data columns (total 8 columns):\n",
            " #   Column          Non-Null Count   Dtype \n",
            "---  ------          --------------   ----- \n",
            " 0   Sector          100000 non-null  object\n",
            " 1   Community Name  100000 non-null  object\n",
            " 2   Group Category  100000 non-null  object\n",
            " 3   Category        100000 non-null  object\n",
            " 4   Crime Count     100000 non-null  int64 \n",
            " 5   Resident Count  100000 non-null  int64 \n",
            " 6   Year            100000 non-null  int64 \n",
            " 7   Month           100000 non-null  object\n",
            "dtypes: int64(3), object(5)\n",
            "memory usage: 6.1+ MB\n"
          ],
          "name": "stdout"
        }
      ]
    },
    {
      "cell_type": "code",
      "metadata": {
        "id": "hMKJSqLKUPGI",
        "colab_type": "code",
        "colab": {
          "base_uri": "https://localhost:8080/",
          "height": 221
        },
        "outputId": "786d397a-f268-46bf-ab60-88198fbca174"
      },
      "source": [
        "cn = data['Community Name'].value_counts()\n",
        "cn"
      ],
      "execution_count": null,
      "outputs": [
        {
          "output_type": "execute_result",
          "data": {
            "text/plain": [
              "BELTLINE                    782\n",
              "DOWNTOWN COMMERCIAL CORE    752\n",
              "FOREST LAWN                 720\n",
              "MARLBOROUGH                 686\n",
              "FALCONRIDGE                 677\n",
              "                           ... \n",
              "05D                           3\n",
              "03C                           2\n",
              "05G                           2\n",
              "MEDICINE HILL                 2\n",
              "05F                           1\n",
              "Name: Community Name, Length: 300, dtype: int64"
            ]
          },
          "metadata": {
            "tags": []
          },
          "execution_count": 62
        }
      ]
    },
    {
      "cell_type": "code",
      "metadata": {
        "id": "ohP2TNLfWNY8",
        "colab_type": "code",
        "colab": {
          "base_uri": "https://localhost:8080/",
          "height": 419
        },
        "outputId": "07a8000d-bcf8-425c-b496-fdb472211ed1"
      },
      "source": [
        "cn = pd.DataFrame(cn)\n",
        "cn"
      ],
      "execution_count": null,
      "outputs": [
        {
          "output_type": "execute_result",
          "data": {
            "text/html": [
              "<div>\n",
              "<style scoped>\n",
              "    .dataframe tbody tr th:only-of-type {\n",
              "        vertical-align: middle;\n",
              "    }\n",
              "\n",
              "    .dataframe tbody tr th {\n",
              "        vertical-align: top;\n",
              "    }\n",
              "\n",
              "    .dataframe thead th {\n",
              "        text-align: right;\n",
              "    }\n",
              "</style>\n",
              "<table border=\"1\" class=\"dataframe\">\n",
              "  <thead>\n",
              "    <tr style=\"text-align: right;\">\n",
              "      <th></th>\n",
              "      <th>Community Name</th>\n",
              "    </tr>\n",
              "  </thead>\n",
              "  <tbody>\n",
              "    <tr>\n",
              "      <th>BELTLINE</th>\n",
              "      <td>782</td>\n",
              "    </tr>\n",
              "    <tr>\n",
              "      <th>DOWNTOWN COMMERCIAL CORE</th>\n",
              "      <td>752</td>\n",
              "    </tr>\n",
              "    <tr>\n",
              "      <th>FOREST LAWN</th>\n",
              "      <td>720</td>\n",
              "    </tr>\n",
              "    <tr>\n",
              "      <th>MARLBOROUGH</th>\n",
              "      <td>686</td>\n",
              "    </tr>\n",
              "    <tr>\n",
              "      <th>FALCONRIDGE</th>\n",
              "      <td>677</td>\n",
              "    </tr>\n",
              "    <tr>\n",
              "      <th>...</th>\n",
              "      <td>...</td>\n",
              "    </tr>\n",
              "    <tr>\n",
              "      <th>05D</th>\n",
              "      <td>3</td>\n",
              "    </tr>\n",
              "    <tr>\n",
              "      <th>03C</th>\n",
              "      <td>2</td>\n",
              "    </tr>\n",
              "    <tr>\n",
              "      <th>05G</th>\n",
              "      <td>2</td>\n",
              "    </tr>\n",
              "    <tr>\n",
              "      <th>MEDICINE HILL</th>\n",
              "      <td>2</td>\n",
              "    </tr>\n",
              "    <tr>\n",
              "      <th>05F</th>\n",
              "      <td>1</td>\n",
              "    </tr>\n",
              "  </tbody>\n",
              "</table>\n",
              "<p>300 rows × 1 columns</p>\n",
              "</div>"
            ],
            "text/plain": [
              "                          Community Name\n",
              "BELTLINE                             782\n",
              "DOWNTOWN COMMERCIAL CORE             752\n",
              "FOREST LAWN                          720\n",
              "MARLBOROUGH                          686\n",
              "FALCONRIDGE                          677\n",
              "...                                  ...\n",
              "05D                                    3\n",
              "03C                                    2\n",
              "05G                                    2\n",
              "MEDICINE HILL                          2\n",
              "05F                                    1\n",
              "\n",
              "[300 rows x 1 columns]"
            ]
          },
          "metadata": {
            "tags": []
          },
          "execution_count": 63
        }
      ]
    },
    {
      "cell_type": "code",
      "metadata": {
        "id": "7UkPSb4MC-uy",
        "colab_type": "code",
        "colab": {}
      },
      "source": [
        "from sklearn.preprocessing import StandardScaler"
      ],
      "execution_count": null,
      "outputs": []
    },
    {
      "cell_type": "code",
      "metadata": {
        "id": "uAnc_tkjCy5n",
        "colab_type": "code",
        "colab": {}
      },
      "source": [
        "def Scaler(data: pd.DataFrame, list_of_columns):\n",
        "    scaler = StandardScaler()\n",
        "    scaled_df = pd.DataFrame()\n",
        "    for column in list_of_columns:\n",
        "        fitted_values = scaler.fit_transform(data[[column]].values)\n",
        "        data[column + ' Scaled'] = fitted_values\n",
        "        data.drop(column, axis=1, inplace=True)\n",
        "    return data"
      ],
      "execution_count": null,
      "outputs": []
    },
    {
      "cell_type": "code",
      "metadata": {
        "id": "wGokpw6PDHJy",
        "colab_type": "code",
        "colab": {}
      },
      "source": [
        "data = Scaler(data, ['Crime Count', 'Resident Count'])"
      ],
      "execution_count": null,
      "outputs": []
    },
    {
      "cell_type": "markdown",
      "metadata": {
        "id": "CMbYvBIzC73w",
        "colab_type": "text"
      },
      "source": [
        ""
      ]
    },
    {
      "cell_type": "code",
      "metadata": {
        "id": "pAN0O2NbE7Hf",
        "colab_type": "code",
        "colab": {
          "base_uri": "https://localhost:8080/",
          "height": 136
        },
        "outputId": "67730d70-ba0e-49d1-959b-d7d4e02620d9"
      },
      "source": [
        "\n",
        "y = pd.get_dummies(data.pop('Category')).to_numpy()\n",
        "y"
      ],
      "execution_count": null,
      "outputs": [
        {
          "output_type": "execute_result",
          "data": {
            "text/plain": [
              "array([[0, 0, 0, ..., 0, 0, 0],\n",
              "       [0, 0, 0, ..., 0, 1, 0],\n",
              "       [0, 0, 0, ..., 1, 0, 0],\n",
              "       ...,\n",
              "       [0, 0, 0, ..., 0, 0, 0],\n",
              "       [0, 0, 0, ..., 0, 0, 0],\n",
              "       [0, 0, 0, ..., 0, 1, 0]], dtype=uint8)"
            ]
          },
          "metadata": {
            "tags": []
          },
          "execution_count": 67
        }
      ]
    },
    {
      "cell_type": "code",
      "metadata": {
        "id": "QgiBzmanFOb6",
        "colab_type": "code",
        "colab": {}
      },
      "source": [
        "import numpy as np\n"
      ],
      "execution_count": null,
      "outputs": []
    },
    {
      "cell_type": "code",
      "metadata": {
        "id": "nYVYjfOPGChV",
        "colab_type": "code",
        "colab": {}
      },
      "source": [
        "x = pd.get_dummies(data).to_numpy()"
      ],
      "execution_count": null,
      "outputs": []
    },
    {
      "cell_type": "code",
      "metadata": {
        "id": "oWt8bXExGsng",
        "colab_type": "code",
        "colab": {
          "base_uri": "https://localhost:8080/",
          "height": 34
        },
        "outputId": "60987680-c1ba-4d16-a5a4-9e41dec26bb0"
      },
      "source": [
        "y.shape"
      ],
      "execution_count": null,
      "outputs": [
        {
          "output_type": "execute_result",
          "data": {
            "text/plain": [
              "(100000, 11)"
            ]
          },
          "metadata": {
            "tags": []
          },
          "execution_count": 72
        }
      ]
    },
    {
      "cell_type": "code",
      "metadata": {
        "id": "89vRYbddG9xL",
        "colab_type": "code",
        "colab": {
          "base_uri": "https://localhost:8080/",
          "height": 34
        },
        "outputId": "6207d419-5f6a-4515-935b-81caf2ed4b05"
      },
      "source": [
        "x.shape"
      ],
      "execution_count": null,
      "outputs": [
        {
          "output_type": "execute_result",
          "data": {
            "text/plain": [
              "(100000, 325)"
            ]
          },
          "metadata": {
            "tags": []
          },
          "execution_count": 73
        }
      ]
    },
    {
      "cell_type": "code",
      "metadata": {
        "id": "iREATFH9EweN",
        "colab_type": "code",
        "colab": {}
      },
      "source": [
        "import tensorflow as tf"
      ],
      "execution_count": null,
      "outputs": []
    },
    {
      "cell_type": "code",
      "metadata": {
        "id": "2lF9tEQnGXA9",
        "colab_type": "code",
        "colab": {
          "base_uri": "https://localhost:8080/",
          "height": 323
        },
        "outputId": "026a27d6-2cdf-47ab-fc99-5f298db664c0"
      },
      "source": [
        "model = tf.keras.models.Sequential()\n",
        "model.add(tf.keras.layers.Dense(3210, input_dim=325, activation='relu'))\n",
        "model.add(tf.keras.layers.Dropout(0.2))\n",
        "model.add(tf.keras.layers.Dense(3210, activation='relu'))\n",
        "model.add(tf.keras.layers.Dropout(0.2))  # prevent overfitting\n",
        "model.add(tf.keras.layers.Dense(11,activation='softmax'))\n",
        "model.summary()\n",
        "adam_opt = tf.keras.optimizers.Adam(learning_rate=0.0001)\n",
        "model.compile(optimizer= adam_opt, loss='categorical_crossentropy', metrics=['accuracy'])"
      ],
      "execution_count": null,
      "outputs": [
        {
          "output_type": "stream",
          "text": [
            "Model: \"sequential_3\"\n",
            "_________________________________________________________________\n",
            "Layer (type)                 Output Shape              Param #   \n",
            "=================================================================\n",
            "dense_3 (Dense)              (None, 3210)              1046460   \n",
            "_________________________________________________________________\n",
            "dropout (Dropout)            (None, 3210)              0         \n",
            "_________________________________________________________________\n",
            "dense_4 (Dense)              (None, 3210)              10307310  \n",
            "_________________________________________________________________\n",
            "dropout_1 (Dropout)          (None, 3210)              0         \n",
            "_________________________________________________________________\n",
            "dense_5 (Dense)              (None, 11)                35321     \n",
            "=================================================================\n",
            "Total params: 11,389,091\n",
            "Trainable params: 11,389,091\n",
            "Non-trainable params: 0\n",
            "_________________________________________________________________\n"
          ],
          "name": "stdout"
        }
      ]
    },
    {
      "cell_type": "code",
      "metadata": {
        "id": "r-IhKSrYIDKE",
        "colab_type": "code",
        "colab": {
          "base_uri": "https://localhost:8080/",
          "height": 1000
        },
        "outputId": "82b57dcf-b6b9-46df-d108-b1870136a10c"
      },
      "source": [
        "history = model.fit(x,y,batch_size=128, epochs=100, validation_split=0.3)"
      ],
      "execution_count": null,
      "outputs": [
        {
          "output_type": "stream",
          "text": [
            "Epoch 1/100\n",
            "547/547 [==============================] - 3s 6ms/step - loss: 9.6964 - accuracy: 0.1419 - val_loss: 2.1457 - val_accuracy: 0.1522\n",
            "Epoch 2/100\n",
            "547/547 [==============================] - 3s 6ms/step - loss: 2.1962 - accuracy: 0.1740 - val_loss: 2.1011 - val_accuracy: 0.2236\n",
            "Epoch 3/100\n",
            "547/547 [==============================] - 3s 6ms/step - loss: 2.1645 - accuracy: 0.1903 - val_loss: 2.1038 - val_accuracy: 0.2236\n",
            "Epoch 4/100\n",
            "547/547 [==============================] - 3s 6ms/step - loss: 2.1573 - accuracy: 0.1945 - val_loss: 2.1061 - val_accuracy: 0.2236\n",
            "Epoch 5/100\n",
            "547/547 [==============================] - 3s 6ms/step - loss: 2.1539 - accuracy: 0.1965 - val_loss: 2.0988 - val_accuracy: 0.2236\n",
            "Epoch 6/100\n",
            "547/547 [==============================] - 3s 6ms/step - loss: 2.1518 - accuracy: 0.1979 - val_loss: 2.1005 - val_accuracy: 0.2236\n",
            "Epoch 7/100\n",
            "547/547 [==============================] - 3s 6ms/step - loss: 2.1509 - accuracy: 0.1977 - val_loss: 2.0999 - val_accuracy: 0.2236\n",
            "Epoch 8/100\n",
            "547/547 [==============================] - 3s 6ms/step - loss: 2.1509 - accuracy: 0.1977 - val_loss: 2.1031 - val_accuracy: 0.2236\n",
            "Epoch 9/100\n",
            "547/547 [==============================] - 3s 6ms/step - loss: 2.1465 - accuracy: 0.1986 - val_loss: 2.1016 - val_accuracy: 0.2236\n",
            "Epoch 10/100\n",
            "547/547 [==============================] - 3s 6ms/step - loss: 2.1476 - accuracy: 0.1983 - val_loss: 2.1049 - val_accuracy: 0.2236\n",
            "Epoch 11/100\n",
            "547/547 [==============================] - 3s 6ms/step - loss: 2.1449 - accuracy: 0.1981 - val_loss: 2.0947 - val_accuracy: 0.2236\n",
            "Epoch 12/100\n",
            "547/547 [==============================] - 3s 6ms/step - loss: 2.1419 - accuracy: 0.1987 - val_loss: 2.0900 - val_accuracy: 0.2236\n",
            "Epoch 13/100\n",
            "547/547 [==============================] - 3s 6ms/step - loss: 2.1334 - accuracy: 0.1987 - val_loss: 2.0710 - val_accuracy: 0.2236\n",
            "Epoch 14/100\n",
            "547/547 [==============================] - 3s 6ms/step - loss: 2.1017 - accuracy: 0.2026 - val_loss: 1.9733 - val_accuracy: 0.2242\n",
            "Epoch 15/100\n",
            "547/547 [==============================] - 3s 6ms/step - loss: 2.0056 - accuracy: 0.2446 - val_loss: 1.7903 - val_accuracy: 0.3631\n",
            "Epoch 16/100\n",
            "547/547 [==============================] - 3s 6ms/step - loss: 1.8749 - accuracy: 0.2864 - val_loss: 1.6138 - val_accuracy: 0.3757\n",
            "Epoch 17/100\n",
            "547/547 [==============================] - 3s 6ms/step - loss: 1.7839 - accuracy: 0.3064 - val_loss: 1.5260 - val_accuracy: 0.3758\n",
            "Epoch 18/100\n",
            "547/547 [==============================] - 3s 6ms/step - loss: 1.6856 - accuracy: 0.3201 - val_loss: 1.4378 - val_accuracy: 0.3774\n",
            "Epoch 19/100\n",
            "547/547 [==============================] - 3s 6ms/step - loss: 1.6310 - accuracy: 0.3198 - val_loss: 1.4393 - val_accuracy: 0.3758\n",
            "Epoch 20/100\n",
            "547/547 [==============================] - 3s 6ms/step - loss: 1.5939 - accuracy: 0.3448 - val_loss: 1.3771 - val_accuracy: 0.4461\n",
            "Epoch 21/100\n",
            "547/547 [==============================] - 3s 6ms/step - loss: 1.5507 - accuracy: 0.3768 - val_loss: 1.3649 - val_accuracy: 0.4510\n",
            "Epoch 22/100\n",
            "547/547 [==============================] - 3s 6ms/step - loss: 1.5170 - accuracy: 0.3960 - val_loss: 1.3147 - val_accuracy: 0.4967\n",
            "Epoch 23/100\n",
            "547/547 [==============================] - 3s 6ms/step - loss: 1.4976 - accuracy: 0.4036 - val_loss: 1.3210 - val_accuracy: 0.4786\n",
            "Epoch 24/100\n",
            "547/547 [==============================] - 3s 6ms/step - loss: 1.4819 - accuracy: 0.4105 - val_loss: 1.3172 - val_accuracy: 0.4759\n",
            "Epoch 25/100\n",
            "547/547 [==============================] - 3s 6ms/step - loss: 1.4753 - accuracy: 0.4114 - val_loss: 1.2904 - val_accuracy: 0.4917\n",
            "Epoch 26/100\n",
            "547/547 [==============================] - 3s 6ms/step - loss: 1.4618 - accuracy: 0.4183 - val_loss: 1.2667 - val_accuracy: 0.5036\n",
            "Epoch 27/100\n",
            "547/547 [==============================] - 3s 6ms/step - loss: 1.4544 - accuracy: 0.4193 - val_loss: 1.2816 - val_accuracy: 0.4949\n",
            "Epoch 28/100\n",
            "547/547 [==============================] - 3s 6ms/step - loss: 1.4327 - accuracy: 0.4267 - val_loss: 1.2678 - val_accuracy: 0.4867\n",
            "Epoch 29/100\n",
            "547/547 [==============================] - 3s 6ms/step - loss: 1.4082 - accuracy: 0.4325 - val_loss: 1.2448 - val_accuracy: 0.5033\n",
            "Epoch 30/100\n",
            "547/547 [==============================] - 3s 6ms/step - loss: 1.3827 - accuracy: 0.4441 - val_loss: 1.2865 - val_accuracy: 0.4696\n",
            "Epoch 31/100\n",
            "547/547 [==============================] - 3s 6ms/step - loss: 1.3593 - accuracy: 0.4581 - val_loss: 1.2159 - val_accuracy: 0.5249\n",
            "Epoch 32/100\n",
            "547/547 [==============================] - 3s 6ms/step - loss: 1.3563 - accuracy: 0.4577 - val_loss: 1.2216 - val_accuracy: 0.5175\n",
            "Epoch 33/100\n",
            "547/547 [==============================] - 3s 6ms/step - loss: 1.3458 - accuracy: 0.4611 - val_loss: 1.2220 - val_accuracy: 0.5027\n",
            "Epoch 34/100\n",
            "547/547 [==============================] - 3s 6ms/step - loss: 1.3317 - accuracy: 0.4665 - val_loss: 1.2067 - val_accuracy: 0.5228\n",
            "Epoch 35/100\n",
            "547/547 [==============================] - 3s 6ms/step - loss: 1.3270 - accuracy: 0.4674 - val_loss: 1.2197 - val_accuracy: 0.4977\n",
            "Epoch 36/100\n",
            "547/547 [==============================] - 3s 6ms/step - loss: 1.3189 - accuracy: 0.4704 - val_loss: 1.2157 - val_accuracy: 0.5055\n",
            "Epoch 37/100\n",
            "547/547 [==============================] - 3s 6ms/step - loss: 1.3154 - accuracy: 0.4707 - val_loss: 1.1983 - val_accuracy: 0.5236\n",
            "Epoch 38/100\n",
            "547/547 [==============================] - 3s 6ms/step - loss: 1.3073 - accuracy: 0.4711 - val_loss: 1.1855 - val_accuracy: 0.5194\n",
            "Epoch 39/100\n",
            "547/547 [==============================] - 3s 6ms/step - loss: 1.3062 - accuracy: 0.4744 - val_loss: 1.1928 - val_accuracy: 0.5177\n",
            "Epoch 40/100\n",
            "547/547 [==============================] - 3s 6ms/step - loss: 1.2981 - accuracy: 0.4755 - val_loss: 1.1903 - val_accuracy: 0.5235\n",
            "Epoch 41/100\n",
            "547/547 [==============================] - 3s 6ms/step - loss: 1.2950 - accuracy: 0.4773 - val_loss: 1.1863 - val_accuracy: 0.5252\n",
            "Epoch 42/100\n",
            "547/547 [==============================] - 3s 6ms/step - loss: 1.2951 - accuracy: 0.4794 - val_loss: 1.2054 - val_accuracy: 0.5026\n",
            "Epoch 43/100\n",
            "547/547 [==============================] - 3s 6ms/step - loss: 1.2905 - accuracy: 0.4808 - val_loss: 1.1796 - val_accuracy: 0.5255\n",
            "Epoch 44/100\n",
            "547/547 [==============================] - 3s 6ms/step - loss: 1.2813 - accuracy: 0.4840 - val_loss: 1.1989 - val_accuracy: 0.5262\n",
            "Epoch 45/100\n",
            "547/547 [==============================] - 3s 6ms/step - loss: 1.2764 - accuracy: 0.4852 - val_loss: 1.2973 - val_accuracy: 0.4669\n",
            "Epoch 46/100\n",
            "547/547 [==============================] - 3s 6ms/step - loss: 1.2769 - accuracy: 0.4849 - val_loss: 1.2034 - val_accuracy: 0.5136\n",
            "Epoch 47/100\n",
            "547/547 [==============================] - 3s 6ms/step - loss: 1.2719 - accuracy: 0.4850 - val_loss: 1.1903 - val_accuracy: 0.5208\n",
            "Epoch 48/100\n",
            "547/547 [==============================] - 3s 6ms/step - loss: 1.2663 - accuracy: 0.4855 - val_loss: 1.1848 - val_accuracy: 0.5195\n",
            "Epoch 49/100\n",
            "547/547 [==============================] - 3s 6ms/step - loss: 1.2640 - accuracy: 0.4878 - val_loss: 1.2059 - val_accuracy: 0.5097\n",
            "Epoch 50/100\n",
            "547/547 [==============================] - 3s 6ms/step - loss: 1.2610 - accuracy: 0.4883 - val_loss: 1.1641 - val_accuracy: 0.5273\n",
            "Epoch 51/100\n",
            "547/547 [==============================] - 3s 6ms/step - loss: 1.2564 - accuracy: 0.4897 - val_loss: 1.1712 - val_accuracy: 0.5306\n",
            "Epoch 52/100\n",
            "547/547 [==============================] - 3s 6ms/step - loss: 1.2537 - accuracy: 0.4902 - val_loss: 1.1624 - val_accuracy: 0.5275\n",
            "Epoch 53/100\n",
            "547/547 [==============================] - 3s 6ms/step - loss: 1.2520 - accuracy: 0.4907 - val_loss: 1.1585 - val_accuracy: 0.5281\n",
            "Epoch 54/100\n",
            "547/547 [==============================] - 3s 6ms/step - loss: 1.2491 - accuracy: 0.4925 - val_loss: 1.2042 - val_accuracy: 0.5134\n",
            "Epoch 55/100\n",
            "547/547 [==============================] - 3s 6ms/step - loss: 1.2446 - accuracy: 0.4961 - val_loss: 1.1982 - val_accuracy: 0.5148\n",
            "Epoch 56/100\n",
            "547/547 [==============================] - 3s 6ms/step - loss: 1.2393 - accuracy: 0.4970 - val_loss: 1.1660 - val_accuracy: 0.5205\n",
            "Epoch 57/100\n",
            "547/547 [==============================] - 3s 6ms/step - loss: 1.2416 - accuracy: 0.4974 - val_loss: 1.1838 - val_accuracy: 0.5232\n",
            "Epoch 58/100\n",
            "547/547 [==============================] - 3s 6ms/step - loss: 1.2346 - accuracy: 0.4979 - val_loss: 1.1831 - val_accuracy: 0.5237\n",
            "Epoch 59/100\n",
            "547/547 [==============================] - 3s 6ms/step - loss: 1.2387 - accuracy: 0.4955 - val_loss: 1.1927 - val_accuracy: 0.5197\n",
            "Epoch 60/100\n",
            "547/547 [==============================] - 3s 6ms/step - loss: 1.2330 - accuracy: 0.4986 - val_loss: 1.1585 - val_accuracy: 0.5255\n",
            "Epoch 61/100\n",
            "547/547 [==============================] - 3s 6ms/step - loss: 1.2369 - accuracy: 0.4946 - val_loss: 1.1655 - val_accuracy: 0.5251\n",
            "Epoch 62/100\n",
            "547/547 [==============================] - 3s 6ms/step - loss: 1.2280 - accuracy: 0.5006 - val_loss: 1.1595 - val_accuracy: 0.5294\n",
            "Epoch 63/100\n",
            "547/547 [==============================] - 3s 6ms/step - loss: 1.2248 - accuracy: 0.5003 - val_loss: 1.1441 - val_accuracy: 0.5236\n",
            "Epoch 64/100\n",
            "547/547 [==============================] - 3s 6ms/step - loss: 1.2250 - accuracy: 0.4988 - val_loss: 1.1398 - val_accuracy: 0.5314\n",
            "Epoch 65/100\n",
            "547/547 [==============================] - 3s 6ms/step - loss: 1.2231 - accuracy: 0.5012 - val_loss: 1.1459 - val_accuracy: 0.5309\n",
            "Epoch 66/100\n",
            "547/547 [==============================] - 3s 6ms/step - loss: 1.2226 - accuracy: 0.4983 - val_loss: 1.1425 - val_accuracy: 0.5331\n",
            "Epoch 67/100\n",
            "547/547 [==============================] - 3s 6ms/step - loss: 1.2236 - accuracy: 0.4989 - val_loss: 1.1547 - val_accuracy: 0.5276\n",
            "Epoch 68/100\n",
            "547/547 [==============================] - 3s 6ms/step - loss: 1.2173 - accuracy: 0.5030 - val_loss: 1.1804 - val_accuracy: 0.5204\n",
            "Epoch 69/100\n",
            "547/547 [==============================] - 3s 6ms/step - loss: 1.2157 - accuracy: 0.5015 - val_loss: 1.1429 - val_accuracy: 0.5329\n",
            "Epoch 70/100\n",
            "547/547 [==============================] - 3s 6ms/step - loss: 1.2199 - accuracy: 0.5012 - val_loss: 1.1622 - val_accuracy: 0.5296\n",
            "Epoch 71/100\n",
            "547/547 [==============================] - 3s 6ms/step - loss: 1.2191 - accuracy: 0.5010 - val_loss: 1.1538 - val_accuracy: 0.5283\n",
            "Epoch 72/100\n",
            "547/547 [==============================] - 3s 6ms/step - loss: 1.2186 - accuracy: 0.5005 - val_loss: 1.1475 - val_accuracy: 0.5253\n",
            "Epoch 73/100\n",
            "547/547 [==============================] - 3s 6ms/step - loss: 1.2074 - accuracy: 0.5040 - val_loss: 1.1371 - val_accuracy: 0.5364\n",
            "Epoch 74/100\n",
            "547/547 [==============================] - 3s 6ms/step - loss: 1.2128 - accuracy: 0.5036 - val_loss: 1.1362 - val_accuracy: 0.5317\n",
            "Epoch 75/100\n",
            "547/547 [==============================] - 3s 6ms/step - loss: 1.2107 - accuracy: 0.5035 - val_loss: 1.1353 - val_accuracy: 0.5319\n",
            "Epoch 76/100\n",
            "547/547 [==============================] - 3s 6ms/step - loss: 1.2100 - accuracy: 0.5036 - val_loss: 1.1348 - val_accuracy: 0.5323\n",
            "Epoch 77/100\n",
            "547/547 [==============================] - 3s 6ms/step - loss: 1.2095 - accuracy: 0.5024 - val_loss: 1.1435 - val_accuracy: 0.5341\n",
            "Epoch 78/100\n",
            "547/547 [==============================] - 3s 6ms/step - loss: 1.2112 - accuracy: 0.5004 - val_loss: 1.1344 - val_accuracy: 0.5360\n",
            "Epoch 79/100\n",
            "547/547 [==============================] - 3s 6ms/step - loss: 1.2077 - accuracy: 0.5043 - val_loss: 1.1299 - val_accuracy: 0.5391\n",
            "Epoch 80/100\n",
            "547/547 [==============================] - 3s 6ms/step - loss: 1.2051 - accuracy: 0.5036 - val_loss: 1.1317 - val_accuracy: 0.5362\n",
            "Epoch 81/100\n",
            "547/547 [==============================] - 3s 6ms/step - loss: 1.2021 - accuracy: 0.5073 - val_loss: 1.2204 - val_accuracy: 0.4941\n",
            "Epoch 82/100\n",
            "547/547 [==============================] - 3s 6ms/step - loss: 1.2106 - accuracy: 0.5022 - val_loss: 1.1800 - val_accuracy: 0.5201\n",
            "Epoch 83/100\n",
            "547/547 [==============================] - 3s 6ms/step - loss: 1.2072 - accuracy: 0.5041 - val_loss: 1.1617 - val_accuracy: 0.5116\n",
            "Epoch 84/100\n",
            "547/547 [==============================] - 3s 6ms/step - loss: 1.2029 - accuracy: 0.5033 - val_loss: 1.1513 - val_accuracy: 0.5166\n",
            "Epoch 85/100\n",
            "547/547 [==============================] - 3s 6ms/step - loss: 1.2023 - accuracy: 0.5051 - val_loss: 1.1569 - val_accuracy: 0.5340\n",
            "Epoch 86/100\n",
            "547/547 [==============================] - 3s 6ms/step - loss: 1.1999 - accuracy: 0.5064 - val_loss: 1.1369 - val_accuracy: 0.5313\n",
            "Epoch 87/100\n",
            "547/547 [==============================] - 3s 6ms/step - loss: 1.1985 - accuracy: 0.5069 - val_loss: 1.1604 - val_accuracy: 0.5203\n",
            "Epoch 88/100\n",
            "547/547 [==============================] - 3s 6ms/step - loss: 1.2048 - accuracy: 0.5031 - val_loss: 1.1499 - val_accuracy: 0.5293\n",
            "Epoch 89/100\n",
            "547/547 [==============================] - 3s 6ms/step - loss: 1.1914 - accuracy: 0.5080 - val_loss: 1.1262 - val_accuracy: 0.5330\n",
            "Epoch 90/100\n",
            "547/547 [==============================] - 3s 6ms/step - loss: 1.1947 - accuracy: 0.5068 - val_loss: 1.1326 - val_accuracy: 0.5342\n",
            "Epoch 91/100\n",
            "547/547 [==============================] - 3s 6ms/step - loss: 1.2027 - accuracy: 0.5051 - val_loss: 1.1286 - val_accuracy: 0.5360\n",
            "Epoch 92/100\n",
            "547/547 [==============================] - 3s 6ms/step - loss: 1.1922 - accuracy: 0.5086 - val_loss: 1.1406 - val_accuracy: 0.5316\n",
            "Epoch 93/100\n",
            "547/547 [==============================] - 3s 6ms/step - loss: 1.1901 - accuracy: 0.5113 - val_loss: 1.2024 - val_accuracy: 0.5070\n",
            "Epoch 94/100\n",
            "547/547 [==============================] - 3s 6ms/step - loss: 1.1896 - accuracy: 0.5093 - val_loss: 1.1484 - val_accuracy: 0.5266\n",
            "Epoch 95/100\n",
            "547/547 [==============================] - 3s 6ms/step - loss: 1.1890 - accuracy: 0.5078 - val_loss: 1.1234 - val_accuracy: 0.5347\n",
            "Epoch 96/100\n",
            "547/547 [==============================] - 3s 6ms/step - loss: 1.1844 - accuracy: 0.5103 - val_loss: 1.1481 - val_accuracy: 0.5329\n",
            "Epoch 97/100\n",
            "547/547 [==============================] - 3s 6ms/step - loss: 1.1856 - accuracy: 0.5096 - val_loss: 1.1467 - val_accuracy: 0.5331\n",
            "Epoch 98/100\n",
            "547/547 [==============================] - 3s 6ms/step - loss: 1.1853 - accuracy: 0.5087 - val_loss: 1.1700 - val_accuracy: 0.5161\n",
            "Epoch 99/100\n",
            "547/547 [==============================] - 3s 6ms/step - loss: 1.1842 - accuracy: 0.5093 - val_loss: 1.1991 - val_accuracy: 0.5180\n",
            "Epoch 100/100\n",
            "547/547 [==============================] - 3s 6ms/step - loss: 1.1818 - accuracy: 0.5097 - val_loss: 1.1479 - val_accuracy: 0.5248\n"
          ],
          "name": "stdout"
        }
      ]
    },
    {
      "cell_type": "code",
      "metadata": {
        "id": "PL7pFndnJRl6",
        "colab_type": "code",
        "colab": {}
      },
      "source": [
        ""
      ],
      "execution_count": null,
      "outputs": []
    }
  ]
}